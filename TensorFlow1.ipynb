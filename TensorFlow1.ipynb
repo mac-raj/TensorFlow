{
  "nbformat": 4,
  "nbformat_minor": 0,
  "metadata": {
    "colab": {
      "provenance": [],
      "authorship_tag": "ABX9TyMAUSf9ega1iaQEvPwaDz2l",
      "include_colab_link": true
    },
    "kernelspec": {
      "name": "python3",
      "display_name": "Python 3"
    },
    "language_info": {
      "name": "python"
    },
    "accelerator": "GPU",
    "gpuClass": "standard"
  },
  "cells": [
    {
      "cell_type": "markdown",
      "metadata": {
        "id": "view-in-github",
        "colab_type": "text"
      },
      "source": [
        "<a href=\"https://colab.research.google.com/github/mac-raj/TensorFlow/blob/main/TensorFlow1.ipynb\" target=\"_parent\"><img src=\"https://colab.research.google.com/assets/colab-badge.svg\" alt=\"Open In Colab\"/></a>"
      ]
    },
    {
      "cell_type": "markdown",
      "source": [
        "**Import Dependencies**\n",
        "\n",
        "The MNIST database is a large database of handwritten digits that is commonly used for training various image processing systems. The database is also widely used for training and testing in the field of machine learning.\n",
        "\n",
        "[Digit Recognition Kaggle](https://www.kaggle.com/code/patheticdog/digitrecognition)\n"
      ],
      "metadata": {
        "id": "r5He2kaKqO-b"
      }
    },
    {
      "cell_type": "code",
      "execution_count": null,
      "metadata": {
        "id": "2uViGiOeocAh"
      },
      "outputs": [],
      "source": [
        "import numpy as np\n",
        "import tensorflow as tf\n",
        "from tensorflow import keras \n",
        "from tensorflow.keras.datasets import mnist"
      ]
    },
    {
      "cell_type": "markdown",
      "source": [
        "**Load Data** "
      ],
      "metadata": {
        "id": "XT1uOpL4qXgS"
      }
    },
    {
      "cell_type": "code",
      "source": [
        "(X_train,y_train), (X_test,y_test) = mnist.load_data()"
      ],
      "metadata": {
        "id": "oaItT206pyQr",
        "colab": {
          "base_uri": "https://localhost:8080/"
        },
        "outputId": "78e54172-b05d-4c72-bb6a-2b5a2b306324"
      },
      "execution_count": null,
      "outputs": [
        {
          "output_type": "stream",
          "name": "stdout",
          "text": [
            "Downloading data from https://storage.googleapis.com/tensorflow/tf-keras-datasets/mnist.npz\n",
            "11490434/11490434 [==============================] - 1s 0us/step\n"
          ]
        }
      ]
    },
    {
      "cell_type": "code",
      "source": [],
      "metadata": {
        "id": "M13wMRgSVL4m"
      },
      "execution_count": null,
      "outputs": []
    },
    {
      "cell_type": "code",
      "source": [
        "X_train.shape"
      ],
      "metadata": {
        "colab": {
          "base_uri": "https://localhost:8080/"
        },
        "id": "pUcKUJFppe1P",
        "outputId": "e9a330f3-feff-440d-fab2-5e7f8c372fd4"
      },
      "execution_count": null,
      "outputs": [
        {
          "output_type": "execute_result",
          "data": {
            "text/plain": [
              "(60000, 28, 28)"
            ]
          },
          "metadata": {},
          "execution_count": 3
        }
      ]
    },
    {
      "cell_type": "code",
      "source": [
        "y_train.shape"
      ],
      "metadata": {
        "colab": {
          "base_uri": "https://localhost:8080/"
        },
        "id": "xrZtkSf9qEh1",
        "outputId": "01e370f4-ec3a-46b3-9d7e-bb3b146d1481"
      },
      "execution_count": null,
      "outputs": [
        {
          "output_type": "execute_result",
          "data": {
            "text/plain": [
              "(60000,)"
            ]
          },
          "metadata": {},
          "execution_count": 4
        }
      ]
    },
    {
      "cell_type": "code",
      "source": [
        "X_train = X_train.reshape(-1,784).astype(\"float32\")/255.0\n",
        "X_test = X_test.reshape(-1,784).astype(\"float32\")/255.0"
      ],
      "metadata": {
        "id": "CfmClojEqH6d"
      },
      "execution_count": null,
      "outputs": []
    },
    {
      "cell_type": "code",
      "source": [
        "# Sequential API (Very convenient not very flexible)\n",
        "\n",
        "model = keras.Sequential()\n",
        "model.add(keras.Input(shape=(28*28)))\n",
        "model.add(keras.layers.Dense(512,activation='relu'))\n",
        "model.add(keras.layers.Dense(256,activation='relu'))\n",
        "model.add(keras.layers.Dense(10))\n",
        "model.compile(optimizer='adam',loss='SparseCategoricalCrossentropy', metrics=['accuracy'])\n",
        "print(model.summary())\n",
        "model.fit(X_train,y_train, batch_size=32, epochs=5, verbose=2)\n",
        "model.evaluate(X_train,y_train, batch_size=32, verbose=2)\n"
      ],
      "metadata": {
        "colab": {
          "base_uri": "https://localhost:8080/"
        },
        "id": "4bO4Ax8Yq88u",
        "outputId": "26c8c7ed-2466-42e1-fc38-c7c45662d87f"
      },
      "execution_count": null,
      "outputs": [
        {
          "output_type": "stream",
          "name": "stdout",
          "text": [
            "Model: \"sequential_5\"\n",
            "_________________________________________________________________\n",
            " Layer (type)                Output Shape              Param #   \n",
            "=================================================================\n",
            " dense_25 (Dense)            (None, 512)               401920    \n",
            "                                                                 \n",
            " dense_26 (Dense)            (None, 256)               131328    \n",
            "                                                                 \n",
            " dense_27 (Dense)            (None, 10)                2570      \n",
            "                                                                 \n",
            "=================================================================\n",
            "Total params: 535,818\n",
            "Trainable params: 535,818\n",
            "Non-trainable params: 0\n",
            "_________________________________________________________________\n",
            "None\n",
            "Epoch 1/5\n",
            "1875/1875 - 6s - loss: 2.3130 - accuracy: 0.1206 - 6s/epoch - 3ms/step\n",
            "Epoch 2/5\n",
            "1875/1875 - 5s - loss: 2.3026 - accuracy: 0.1064 - 5s/epoch - 3ms/step\n",
            "Epoch 3/5\n",
            "1875/1875 - 5s - loss: 2.3026 - accuracy: 0.1064 - 5s/epoch - 3ms/step\n",
            "Epoch 4/5\n",
            "1875/1875 - 6s - loss: 2.3026 - accuracy: 0.1064 - 6s/epoch - 3ms/step\n",
            "Epoch 5/5\n",
            "1875/1875 - 5s - loss: 2.3026 - accuracy: 0.1064 - 5s/epoch - 3ms/step\n",
            "1875/1875 - 4s - loss: 2.3026 - accuracy: 0.1064 - 4s/epoch - 2ms/step\n"
          ]
        },
        {
          "output_type": "execute_result",
          "data": {
            "text/plain": [
              "[2.3025569915771484, 0.10636666417121887]"
            ]
          },
          "metadata": {},
          "execution_count": 18
        }
      ]
    },
    {
      "cell_type": "code",
      "source": [
        "#Functional Api (A bit more flexible)\n",
        "\n",
        "inputs = keras.Input(shape=(28*28))\n",
        "x = keras.layers.Dense(512, activation='relu',name='first_layer')(inputs)\n",
        "x = keras.layers.Dense(256, activation='relu',name='second_layer')(x)\n",
        "outputs = keras.layers.Dense(10,activation='softmax')(x)\n",
        "model = keras.Model(inputs=inputs, outputs=outputs)\n",
        "model.compile(optimizer='adam',loss='SparseCategoricalCrossentropy', metrics=['accuracy'])\n",
        "print(model.summary())\n",
        "model.fit(X_train,y_train, batch_size=32, epochs=5,verbose=2)\n",
        "model.evaluate(X_train,y_train, batch_size=32,verbose=2)"
      ],
      "metadata": {
        "id": "cPJfp-kutj6t",
        "colab": {
          "base_uri": "https://localhost:8080/"
        },
        "outputId": "79453ee0-3b12-4332-97c7-7788b456e0d3"
      },
      "execution_count": null,
      "outputs": [
        {
          "output_type": "stream",
          "name": "stdout",
          "text": [
            "Model: \"model_2\"\n",
            "_________________________________________________________________\n",
            " Layer (type)                Output Shape              Param #   \n",
            "=================================================================\n",
            " input_11 (InputLayer)       [(None, 784)]             0         \n",
            "                                                                 \n",
            " first_layer (Dense)         (None, 512)               401920    \n",
            "                                                                 \n",
            " second_layer (Dense)        (None, 256)               131328    \n",
            "                                                                 \n",
            " dense_28 (Dense)            (None, 10)                2570      \n",
            "                                                                 \n",
            "=================================================================\n",
            "Total params: 535,818\n",
            "Trainable params: 535,818\n",
            "Non-trainable params: 0\n",
            "_________________________________________________________________\n",
            "None\n",
            "Epoch 1/5\n",
            "1875/1875 - 6s - loss: 0.1844 - accuracy: 0.9442 - 6s/epoch - 3ms/step\n",
            "Epoch 2/5\n",
            "1875/1875 - 6s - loss: 0.0775 - accuracy: 0.9760 - 6s/epoch - 3ms/step\n",
            "Epoch 3/5\n",
            "1875/1875 - 5s - loss: 0.0549 - accuracy: 0.9826 - 5s/epoch - 3ms/step\n",
            "Epoch 4/5\n",
            "1875/1875 - 5s - loss: 0.0409 - accuracy: 0.9872 - 5s/epoch - 3ms/step\n",
            "Epoch 5/5\n",
            "1875/1875 - 5s - loss: 0.0323 - accuracy: 0.9895 - 5s/epoch - 3ms/step\n",
            "1875/1875 - 4s - loss: 0.0202 - accuracy: 0.9931 - 4s/epoch - 2ms/step\n"
          ]
        },
        {
          "output_type": "execute_result",
          "data": {
            "text/plain": [
              "[0.020230421796441078, 0.9930833578109741]"
            ]
          },
          "metadata": {},
          "execution_count": 19
        }
      ]
    },
    {
      "cell_type": "code",
      "source": [
        "feature = model.predict(X_train)\n",
        "print(feature)"
      ],
      "metadata": {
        "colab": {
          "base_uri": "https://localhost:8080/"
        },
        "id": "NsBKN7uwMxjF",
        "outputId": "33d84259-7414-4b3f-de7a-cf94c09f3cc1"
      },
      "execution_count": null,
      "outputs": [
        {
          "output_type": "stream",
          "name": "stdout",
          "text": [
            "1875/1875 [==============================] - 3s 2ms/step\n",
            "[[3.27123773e-18 9.60282675e-14 7.30224827e-16 ... 2.55659954e-14\n",
            "  5.59467349e-13 6.87430529e-11]\n",
            " [9.99951363e-01 3.93159220e-11 3.16374837e-07 ... 8.64759002e-08\n",
            "  6.77730938e-09 4.80394447e-05]\n",
            " [1.05355896e-13 4.30706041e-06 1.68315957e-08 ... 7.23824067e-09\n",
            "  1.43420946e-08 2.08568537e-07]\n",
            " ...\n",
            " [4.53767050e-21 4.28112447e-23 1.09461619e-24 ... 1.08220771e-21\n",
            "  3.02310696e-15 5.31083944e-12]\n",
            " [3.60863028e-09 2.73984476e-13 5.75579731e-12 ... 1.69773575e-14\n",
            "  8.31267000e-11 2.66643017e-13]\n",
            " [1.61325453e-09 3.32986405e-13 7.76767400e-11 ... 1.11318749e-11\n",
            "  1.00000000e+00 3.85102084e-09]]\n"
          ]
        }
      ]
    }
  ]
}