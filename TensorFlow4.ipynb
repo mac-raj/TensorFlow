{
  "nbformat": 4,
  "nbformat_minor": 0,
  "metadata": {
    "colab": {
      "provenance": [],
      "authorship_tag": "ABX9TyPZXusp/tuTbV414KBZG+KW",
      "include_colab_link": true
    },
    "kernelspec": {
      "name": "python3",
      "display_name": "Python 3"
    },
    "language_info": {
      "name": "python"
    },
    "accelerator": "GPU",
    "gpuClass": "standard"
  },
  "cells": [
    {
      "cell_type": "markdown",
      "metadata": {
        "id": "view-in-github",
        "colab_type": "text"
      },
      "source": [
        "<a href=\"https://colab.research.google.com/github/mac-raj/TensorFlow/blob/main/TensorFlow4.ipynb\" target=\"_parent\"><img src=\"https://colab.research.google.com/assets/colab-badge.svg\" alt=\"Open In Colab\"/></a>"
      ]
    },
    {
      "cell_type": "markdown",
      "source": [
        "# TensorFlow Input Pipeline\n",
        "\n",
        "The input pipeline is a quick and easy utility provided in tf.dataapi to make complex input pipelines from simple and reusable codes and all in few lines of code. It also allows handling a large amount of data, thus giving low-end machines an advantage in computing them.\n",
        "\n",
        "It does it by wrapping the data into tf.data.dataset class and performing a series of operations on them called ETL - Extract, Transform, Load."
      ],
      "metadata": {
        "id": "xq_gZjvy_MOQ"
      }
    },
    {
      "cell_type": "code",
      "execution_count": 1,
      "metadata": {
        "id": "GiD8jVOk33HB"
      },
      "outputs": [],
      "source": [
        "import tensorflow as tf"
      ]
    },
    {
      "cell_type": "code",
      "source": [
        "daily_customer_number = [19,3,90,34,67,89,23,-1,678]"
      ],
      "metadata": {
        "id": "R5lxPf864NGp"
      },
      "execution_count": 2,
      "outputs": []
    },
    {
      "cell_type": "code",
      "source": [
        "daily_customer_number"
      ],
      "metadata": {
        "colab": {
          "base_uri": "https://localhost:8080/"
        },
        "id": "Yoo-k7Hh40CL",
        "outputId": "2552b734-e17c-406c-f72e-52334b289f6b"
      },
      "execution_count": 3,
      "outputs": [
        {
          "output_type": "execute_result",
          "data": {
            "text/plain": [
              "[19, 3, 90, 34, 67, 89, 23, -1, 678]"
            ]
          },
          "metadata": {},
          "execution_count": 3
        }
      ]
    },
    {
      "cell_type": "code",
      "source": [
        "tf_dataset =tf.data.Dataset.from_tensor_slices(daily_customer_number)"
      ],
      "metadata": {
        "id": "qxlpfTRQ4c_3"
      },
      "execution_count": 5,
      "outputs": []
    },
    {
      "cell_type": "code",
      "source": [
        "tf_dataset"
      ],
      "metadata": {
        "colab": {
          "base_uri": "https://localhost:8080/"
        },
        "id": "NbpaV8OF4m8w",
        "outputId": "baa025e5-9b89-40ec-b445-83b6df9b9553"
      },
      "execution_count": 6,
      "outputs": [
        {
          "output_type": "execute_result",
          "data": {
            "text/plain": [
              "<TensorSliceDataset element_spec=TensorSpec(shape=(), dtype=tf.int32, name=None)>"
            ]
          },
          "metadata": {},
          "execution_count": 6
        }
      ]
    },
    {
      "cell_type": "code",
      "source": [
        "#Print objects\n",
        "for customer in tf_dataset:\n",
        "  print(customer)"
      ],
      "metadata": {
        "colab": {
          "base_uri": "https://localhost:8080/"
        },
        "id": "QcdpYKz34pY4",
        "outputId": "c4432e36-f900-4456-d4d1-c998d461ca07"
      },
      "execution_count": 7,
      "outputs": [
        {
          "output_type": "stream",
          "name": "stdout",
          "text": [
            "tf.Tensor(19, shape=(), dtype=int32)\n",
            "tf.Tensor(3, shape=(), dtype=int32)\n",
            "tf.Tensor(90, shape=(), dtype=int32)\n",
            "tf.Tensor(34, shape=(), dtype=int32)\n",
            "tf.Tensor(67, shape=(), dtype=int32)\n",
            "tf.Tensor(89, shape=(), dtype=int32)\n",
            "tf.Tensor(23, shape=(), dtype=int32)\n",
            "tf.Tensor(-1, shape=(), dtype=int32)\n",
            "tf.Tensor(678, shape=(), dtype=int32)\n"
          ]
        }
      ]
    },
    {
      "cell_type": "code",
      "source": [
        "# Convert Into numpy\n",
        "for customer in tf_dataset:\n",
        "  print(customer.numpy())"
      ],
      "metadata": {
        "colab": {
          "base_uri": "https://localhost:8080/"
        },
        "id": "R0c5yuMr5MvY",
        "outputId": "4fb8c2ee-87dd-440b-a277-f6482a249971"
      },
      "execution_count": 8,
      "outputs": [
        {
          "output_type": "stream",
          "name": "stdout",
          "text": [
            "19\n",
            "3\n",
            "90\n",
            "34\n",
            "67\n",
            "89\n",
            "23\n",
            "-1\n",
            "678\n"
          ]
        }
      ]
    },
    {
      "cell_type": "code",
      "source": [
        "# Convert Into numpy\n",
        "for customer in tf_dataset.as_numpy_iterator():\n",
        "  print(customer)"
      ],
      "metadata": {
        "colab": {
          "base_uri": "https://localhost:8080/"
        },
        "id": "KBSnREAi5XzY",
        "outputId": "be91ba84-c580-4391-a7e2-003cd674812f"
      },
      "execution_count": 9,
      "outputs": [
        {
          "output_type": "stream",
          "name": "stdout",
          "text": [
            "19\n",
            "3\n",
            "90\n",
            "34\n",
            "67\n",
            "89\n",
            "23\n",
            "-1\n",
            "678\n"
          ]
        }
      ]
    },
    {
      "cell_type": "code",
      "source": [
        "# Print first 3 element\n",
        "for customer in tf_dataset.take(3):\n",
        "  print(customer.numpy())"
      ],
      "metadata": {
        "colab": {
          "base_uri": "https://localhost:8080/"
        },
        "id": "J8Lxiqik5i3g",
        "outputId": "2b7e7aa3-4a2a-454e-b5f8-780091a3f423"
      },
      "execution_count": 10,
      "outputs": [
        {
          "output_type": "stream",
          "name": "stdout",
          "text": [
            "19\n",
            "3\n",
            "90\n"
          ]
        }
      ]
    },
    {
      "cell_type": "code",
      "source": [
        "# Filter negative data\n",
        "tf_filtered_data = tf_dataset.filter(lambda x: x>0)\n",
        "for customer in tf_filtered_data.as_numpy_iterator():\n",
        "  print(customer)"
      ],
      "metadata": {
        "colab": {
          "base_uri": "https://localhost:8080/"
        },
        "id": "mLptpjeT6JmS",
        "outputId": "ef1acc66-9e7a-40ec-cb09-0f2e32223c65"
      },
      "execution_count": 14,
      "outputs": [
        {
          "output_type": "stream",
          "name": "stderr",
          "text": [
            "WARNING:tensorflow:From /usr/local/lib/python3.8/dist-packages/tensorflow/python/autograph/pyct/static_analysis/liveness.py:83: Analyzer.lamba_check (from tensorflow.python.autograph.pyct.static_analysis.liveness) is deprecated and will be removed after 2023-09-23.\n",
            "Instructions for updating:\n",
            "Lambda fuctions will be no more assumed to be used in the statement where they are used, or at least in the same block. https://github.com/tensorflow/tensorflow/issues/56089\n"
          ]
        },
        {
          "output_type": "stream",
          "name": "stdout",
          "text": [
            "19\n",
            "3\n",
            "90\n",
            "34\n",
            "67\n",
            "89\n",
            "23\n",
            "678\n"
          ]
        }
      ]
    },
    {
      "cell_type": "code",
      "source": [
        "# Normalize data\n",
        "tf_normalized_data = tf_dataset.map(lambda x: x/678)\n",
        "for customer in tf_normalized_data.as_numpy_iterator():\n",
        "  print(customer)"
      ],
      "metadata": {
        "colab": {
          "base_uri": "https://localhost:8080/"
        },
        "id": "wWo_moDv6kd3",
        "outputId": "b3cf52c4-8f91-47dd-8db1-4859683fd772"
      },
      "execution_count": 19,
      "outputs": [
        {
          "output_type": "stream",
          "name": "stdout",
          "text": [
            "0.028023598820058997\n",
            "0.004424778761061947\n",
            "0.13274336283185842\n",
            "0.05014749262536873\n",
            "0.09882005899705015\n",
            "0.13126843657817108\n",
            "0.03392330383480826\n",
            "-0.0014749262536873156\n",
            "1.0\n"
          ]
        }
      ]
    },
    {
      "cell_type": "code",
      "source": [
        "# multiply each element with 78\n",
        "tf_multiply_data = tf_dataset.map(lambda x: x*78)\n",
        "for customer in tf_multiply_data.as_numpy_iterator():\n",
        "  print(customer)"
      ],
      "metadata": {
        "colab": {
          "base_uri": "https://localhost:8080/"
        },
        "id": "wVY_egrj8GE5",
        "outputId": "abe8b678-b24f-4a3b-f71b-0190fe9495f5"
      },
      "execution_count": 20,
      "outputs": [
        {
          "output_type": "stream",
          "name": "stdout",
          "text": [
            "1482\n",
            "234\n",
            "7020\n",
            "2652\n",
            "5226\n",
            "6942\n",
            "1794\n",
            "-78\n",
            "52884\n"
          ]
        }
      ]
    },
    {
      "cell_type": "code",
      "source": [
        "# Shuffle data element \n",
        "tf_shuffle_data = tf_dataset.shuffle(2)\n",
        "for customer in tf_shuffle_data.as_numpy_iterator():\n",
        "  print(customer)"
      ],
      "metadata": {
        "colab": {
          "base_uri": "https://localhost:8080/"
        },
        "id": "sQUmoDRP8mpA",
        "outputId": "580a598a-fed4-4bbd-fbe9-68ab7367187d"
      },
      "execution_count": 21,
      "outputs": [
        {
          "output_type": "stream",
          "name": "stdout",
          "text": [
            "3\n",
            "90\n",
            "34\n",
            "19\n",
            "89\n",
            "23\n",
            "-1\n",
            "67\n",
            "678\n"
          ]
        }
      ]
    },
    {
      "cell_type": "code",
      "source": [
        "# Shuffle data element \n",
        "tf_shuffle_data = tf_dataset.shuffle(4)\n",
        "for customer in tf_shuffle_data.as_numpy_iterator():\n",
        "  print(customer)"
      ],
      "metadata": {
        "colab": {
          "base_uri": "https://localhost:8080/"
        },
        "id": "8gxqxoMZ8-qo",
        "outputId": "7dd72b66-f6ea-47e8-e77c-b7471fbb420f"
      },
      "execution_count": 22,
      "outputs": [
        {
          "output_type": "stream",
          "name": "stdout",
          "text": [
            "3\n",
            "90\n",
            "19\n",
            "34\n",
            "89\n",
            "23\n",
            "678\n",
            "67\n",
            "-1\n"
          ]
        }
      ]
    },
    {
      "cell_type": "code",
      "source": [
        "# Convert Into Batch\n",
        "for customer in tf_dataset.batch(2):\n",
        "  print(customer.numpy())"
      ],
      "metadata": {
        "colab": {
          "base_uri": "https://localhost:8080/"
        },
        "id": "Zg687eKo9D-g",
        "outputId": "96fa44ac-bb40-4f21-b196-4f61b14bef51"
      },
      "execution_count": 24,
      "outputs": [
        {
          "output_type": "stream",
          "name": "stdout",
          "text": [
            "[19  3]\n",
            "[90 34]\n",
            "[67 89]\n",
            "[23 -1]\n",
            "[678]\n"
          ]
        }
      ]
    },
    {
      "cell_type": "code",
      "source": [
        "# ETL using one single line\n",
        "tf_dataset =tf.data.Dataset.from_tensor_slices(daily_customer_number)\n",
        "tf_data_Dataset = tf_dataset.filter(lambda x: x>0).map(lambda y: y/678).shuffle(2).batch(2)\n",
        "for customer in tf_data_Dataset.as_numpy_iterator():\n",
        "  print(customer)"
      ],
      "metadata": {
        "colab": {
          "base_uri": "https://localhost:8080/"
        },
        "id": "D8OSthOx93Eh",
        "outputId": "62599169-a9c0-4396-9152-016df612aa0d"
      },
      "execution_count": 28,
      "outputs": [
        {
          "output_type": "stream",
          "name": "stdout",
          "text": [
            "[0.00442478 0.13274336]\n",
            "[0.0280236  0.05014749]\n",
            "[0.09882006 0.13126844]\n",
            "[1.        0.0339233]\n"
          ]
        }
      ]
    }
  ]
}