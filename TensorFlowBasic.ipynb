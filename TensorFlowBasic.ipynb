{
  "nbformat": 4,
  "nbformat_minor": 0,
  "metadata": {
    "colab": {
      "provenance": [],
      "authorship_tag": "ABX9TyPOSFXfU5CCzeqSfRbHoHcV",
      "include_colab_link": true
    },
    "kernelspec": {
      "name": "python3",
      "display_name": "Python 3"
    },
    "language_info": {
      "name": "python"
    },
    "accelerator": "GPU",
    "gpuClass": "standard"
  },
  "cells": [
    {
      "cell_type": "markdown",
      "metadata": {
        "id": "view-in-github",
        "colab_type": "text"
      },
      "source": [
        "<a href=\"https://colab.research.google.com/github/mac-raj/TensorFlow/blob/main/TensorFlowBasic.ipynb\" target=\"_parent\"><img src=\"https://colab.research.google.com/assets/colab-badge.svg\" alt=\"Open In Colab\"/></a>"
      ]
    },
    {
      "cell_type": "markdown",
      "source": [
        "# Tensor\n",
        "\n",
        "Tensor is a multi-dimensional array has an ability to run on GPU"
      ],
      "metadata": {
        "id": "LTiJQzOSgtLB"
      }
    },
    {
      "cell_type": "markdown",
      "source": [
        "**Import Dependencies**"
      ],
      "metadata": {
        "id": "7xC07-Uqg2MG"
      }
    },
    {
      "cell_type": "code",
      "execution_count": 1,
      "metadata": {
        "id": "9sbK23F9grZE"
      },
      "outputs": [],
      "source": [
        "import numpy as np\n",
        "import matplotlib.pyplot as plt\n",
        "\n",
        "import tensorflow as tf"
      ]
    },
    {
      "cell_type": "markdown",
      "source": [
        "**Initialization of Tensors** "
      ],
      "metadata": {
        "id": "ZZuXg5Y9iGo2"
      }
    },
    {
      "cell_type": "code",
      "source": [
        "x = tf.constant(4)\n",
        "print(x)"
      ],
      "metadata": {
        "colab": {
          "base_uri": "https://localhost:8080/"
        },
        "id": "SYCJ73XJhPhi",
        "outputId": "3fad1dde-7b6d-4777-e133-99fee8ae23e4"
      },
      "execution_count": 3,
      "outputs": [
        {
          "output_type": "stream",
          "name": "stdout",
          "text": [
            "tf.Tensor(4, shape=(), dtype=int32)\n"
          ]
        }
      ]
    },
    {
      "cell_type": "code",
      "source": [
        "x = tf.constant(4,shape=(1,1),dtype=tf.float32)\n",
        "print(x)"
      ],
      "metadata": {
        "colab": {
          "base_uri": "https://localhost:8080/"
        },
        "id": "UFu17rDHhyay",
        "outputId": "41d828b2-8be0-48e2-ac08-152d7f7b09ed"
      },
      "execution_count": 4,
      "outputs": [
        {
          "output_type": "stream",
          "name": "stdout",
          "text": [
            "tf.Tensor([[4.]], shape=(1, 1), dtype=float32)\n"
          ]
        }
      ]
    },
    {
      "cell_type": "code",
      "source": [
        "y = tf.constant([[1,2,3],[5,6,7]])\n",
        "print(y)"
      ],
      "metadata": {
        "colab": {
          "base_uri": "https://localhost:8080/"
        },
        "id": "KM_ZVh7giCIi",
        "outputId": "d9f82099-6327-4d2e-f2f8-9ff3709510c9"
      },
      "execution_count": 6,
      "outputs": [
        {
          "output_type": "stream",
          "name": "stdout",
          "text": [
            "tf.Tensor(\n",
            "[[1 2 3]\n",
            " [5 6 7]], shape=(2, 3), dtype=int32)\n"
          ]
        }
      ]
    },
    {
      "cell_type": "code",
      "source": [
        "# Print a matrix which all element in one\n",
        "ones_matrix = tf.ones((3,3),dtype=tf.int32)\n",
        "print(ones_matrix)"
      ],
      "metadata": {
        "colab": {
          "base_uri": "https://localhost:8080/"
        },
        "id": "JTXl7RgMiTZ6",
        "outputId": "9cdd7c02-18af-4a2f-f430-11e555f86071"
      },
      "execution_count": 8,
      "outputs": [
        {
          "output_type": "stream",
          "name": "stdout",
          "text": [
            "tf.Tensor(\n",
            "[[1 1 1]\n",
            " [1 1 1]\n",
            " [1 1 1]], shape=(3, 3), dtype=int32)\n"
          ]
        }
      ]
    },
    {
      "cell_type": "code",
      "source": [
        "# Print a matrix which all element in zero\n",
        "zeros_matrix = tf.zeros((2,3),dtype=tf.int32)\n",
        "print(zeros_matrix)"
      ],
      "metadata": {
        "colab": {
          "base_uri": "https://localhost:8080/"
        },
        "id": "-FCHho_Qip2q",
        "outputId": "1e57b717-2299-47ac-a24e-79b8d9e1338d"
      },
      "execution_count": 14,
      "outputs": [
        {
          "output_type": "stream",
          "name": "stdout",
          "text": [
            "tf.Tensor(\n",
            "[[0 0 0]\n",
            " [0 0 0]], shape=(2, 3), dtype=int32)\n"
          ]
        }
      ]
    },
    {
      "cell_type": "code",
      "source": [
        "# Print a identity matrix\n",
        "identity_matrix = tf.eye(3,dtype=tf.int32)\n",
        "print(identity_matrix)"
      ],
      "metadata": {
        "colab": {
          "base_uri": "https://localhost:8080/"
        },
        "id": "C2u3hAR8ixd5",
        "outputId": "481ce164-5d76-4bbf-ed0e-5e694ab67a6c"
      },
      "execution_count": 20,
      "outputs": [
        {
          "output_type": "stream",
          "name": "stdout",
          "text": [
            "tf.Tensor(\n",
            "[[1 0 0]\n",
            " [0 1 0]\n",
            " [0 0 1]], shape=(3, 3), dtype=int32)\n"
          ]
        }
      ]
    },
    {
      "cell_type": "code",
      "source": [
        "# Print Strandard Normal Distribution\n",
        "std_dist = tf.random.normal((3,3,4), mean=0, stddev=1)\n",
        "print(std_dist)"
      ],
      "metadata": {
        "colab": {
          "base_uri": "https://localhost:8080/"
        },
        "id": "zWFkD0wmjOKT",
        "outputId": "4a8dfe07-c226-4e94-920f-d6cb70420bf7"
      },
      "execution_count": 25,
      "outputs": [
        {
          "output_type": "stream",
          "name": "stdout",
          "text": [
            "tf.Tensor(\n",
            "[[[ 0.72791606  0.500118    1.7360433   0.6376959 ]\n",
            "  [-0.6210826  -0.06792945 -1.8213022   0.9962498 ]\n",
            "  [-0.03924373  0.4160664   1.1299235  -1.17588   ]]\n",
            "\n",
            " [[ 0.29734656 -0.08943693  0.35503536  0.56801546]\n",
            "  [ 0.311591   -0.0913387  -1.65483     0.05308809]\n",
            "  [-0.0454025  -0.04583364  0.2294629   1.2324585 ]]\n",
            "\n",
            " [[ 0.21779545 -0.42113397  1.0567347   0.59836936]\n",
            "  [-1.3208152   1.6089021  -0.18921922  0.52891606]\n",
            "  [ 0.01737215 -0.01423121  0.31863365 -0.7729676 ]]], shape=(3, 3, 4), dtype=float32)\n"
          ]
        }
      ]
    },
    {
      "cell_type": "code",
      "source": [
        "# Print Uniform Distribution\n",
        "uniform_dist = tf.random.uniform((1,3), minval=0,maxval=1)\n",
        "print(uniform_dist)"
      ],
      "metadata": {
        "colab": {
          "base_uri": "https://localhost:8080/"
        },
        "id": "tTIrlg8Yk03a",
        "outputId": "6696515a-25e5-4127-93b9-ff05d4ec8f8f"
      },
      "execution_count": 29,
      "outputs": [
        {
          "output_type": "stream",
          "name": "stdout",
          "text": [
            "tf.Tensor([[0.7688142  0.8171598  0.38073158]], shape=(1, 3), dtype=float32)\n"
          ]
        }
      ]
    },
    {
      "cell_type": "code",
      "source": [
        "# Print range \n",
        "range = tf.range(9)\n",
        "print(range)\n",
        "customized_range = tf.range(start=1, limit=10, delta =2)\n",
        "print(customized_range)"
      ],
      "metadata": {
        "colab": {
          "base_uri": "https://localhost:8080/"
        },
        "id": "B9FTT1EIlcCJ",
        "outputId": "def408a6-f24b-4c24-8b5d-69ba0662a9f3"
      },
      "execution_count": 34,
      "outputs": [
        {
          "output_type": "stream",
          "name": "stdout",
          "text": [
            "tf.Tensor([0 1 2 3 4 5 6 7 8], shape=(9,), dtype=int32)\n",
            "tf.Tensor([1 3 5 7 9], shape=(5,), dtype=int32)\n"
          ]
        }
      ]
    },
    {
      "cell_type": "code",
      "source": [
        "# Cast \n",
        "cast1 = tf.cast(range, dtype=tf.float32)\n",
        "cast2 = tf.cast(customized_range, dtype=tf.float32)\n",
        "print(cast1)\n",
        "print(cast2)"
      ],
      "metadata": {
        "colab": {
          "base_uri": "https://localhost:8080/"
        },
        "id": "p4LpLTb-onoy",
        "outputId": "9a25a7de-a1b2-4a5a-db92-efec3e4ca644"
      },
      "execution_count": 35,
      "outputs": [
        {
          "output_type": "stream",
          "name": "stdout",
          "text": [
            "tf.Tensor([0. 1. 2. 3. 4. 5. 6. 7. 8.], shape=(9,), dtype=float32)\n",
            "tf.Tensor([1. 3. 5. 7. 9.], shape=(5,), dtype=float32)\n"
          ]
        }
      ]
    },
    {
      "cell_type": "markdown",
      "source": [
        "**Mathematical Operations of Tensor**"
      ],
      "metadata": {
        "id": "_2sX7K35p5KZ"
      }
    },
    {
      "cell_type": "code",
      "source": [
        "x = tf.constant([1,2,3])\n",
        "y = tf.constant([4,5,6])\n",
        "\n",
        "# Additon\n",
        "add = tf.add(x,y)\n",
        "print(add)\n",
        "\n",
        "# Subtraction\n",
        "sub = tf.subtract(x,y)\n",
        "print(sub)\n",
        "\n",
        "# Multiplication\n",
        "mul = tf.multiply(x,y)\n",
        "print(mul)\n",
        "\n",
        "# Division\n",
        "div = tf.divide(x,y)\n",
        "print(div)\n",
        "\n",
        "# Dot Product\n",
        "dot_product = tf.tensordot(x,y, axes=1)\n",
        "print(dot_product)"
      ],
      "metadata": {
        "colab": {
          "base_uri": "https://localhost:8080/"
        },
        "id": "w967sD3xpsBq",
        "outputId": "084813b1-f73a-423e-8f67-ec768c1d3af3"
      },
      "execution_count": 45,
      "outputs": [
        {
          "output_type": "stream",
          "name": "stdout",
          "text": [
            "tf.Tensor([5 7 9], shape=(3,), dtype=int32)\n",
            "tf.Tensor([-3 -3 -3], shape=(3,), dtype=int32)\n",
            "tf.Tensor([ 4 10 18], shape=(3,), dtype=int32)\n",
            "tf.Tensor([0.25 0.4  0.5 ], shape=(3,), dtype=float64)\n",
            "tf.Tensor(32, shape=(), dtype=int32)\n"
          ]
        }
      ]
    },
    {
      "cell_type": "code",
      "source": [
        " # power of each element of matrix\n",
        " x1= tf.constant([1,3,7])\n",
        " x1= x1 ** 2\n",
        " print(x1)"
      ],
      "metadata": {
        "colab": {
          "base_uri": "https://localhost:8080/"
        },
        "id": "NLADWDt1qWmK",
        "outputId": "a6019de6-ec42-452f-b538-bfad82684a2f"
      },
      "execution_count": 48,
      "outputs": [
        {
          "output_type": "stream",
          "name": "stdout",
          "text": [
            "tf.Tensor([ 1  9 49], shape=(3,), dtype=int32)\n"
          ]
        }
      ]
    },
    {
      "cell_type": "code",
      "source": [
        "# Printing notation of tensor\n",
        "x = tf.constant([1,4,56,7,8,3,78,90,12,4,6,8])\n",
        "print(x[:])\n",
        "print(x[2:])\n",
        "print(x[:11])\n",
        "print(x[2:4])\n",
        "print(x[::3])\n",
        "print(x[::-1])\n",
        "print(x[::-2])"
      ],
      "metadata": {
        "colab": {
          "base_uri": "https://localhost:8080/"
        },
        "id": "tlf7e6BpsYi6",
        "outputId": "7802bd7e-739e-4702-f803-455e8534f70b"
      },
      "execution_count": 67,
      "outputs": [
        {
          "output_type": "stream",
          "name": "stdout",
          "text": [
            "tf.Tensor([ 1  4 56  7  8  3 78 90 12  4  6  8], shape=(12,), dtype=int32)\n",
            "tf.Tensor([56  7  8  3 78 90 12  4  6  8], shape=(10,), dtype=int32)\n",
            "tf.Tensor([ 1  4 56  7  8  3 78 90 12  4  6], shape=(11,), dtype=int32)\n",
            "tf.Tensor([56  7], shape=(2,), dtype=int32)\n",
            "tf.Tensor([ 1  7 78  4], shape=(4,), dtype=int32)\n",
            "tf.Tensor([ 8  6  4 12 90 78  3  8  7 56  4  1], shape=(12,), dtype=int32)\n",
            "tf.Tensor([ 8  4 90  3  7  4], shape=(6,), dtype=int32)\n"
          ]
        }
      ]
    },
    {
      "cell_type": "code",
      "source": [
        "#print index\n",
        "indices = tf.constant([0,3])\n",
        "x_index = tf.gather(x, indices)\n",
        "print(x_index)"
      ],
      "metadata": {
        "colab": {
          "base_uri": "https://localhost:8080/"
        },
        "id": "_h5Zig1wtucy",
        "outputId": "84481f0c-59d7-4eb3-b524-d28fdafb4f40"
      },
      "execution_count": 59,
      "outputs": [
        {
          "output_type": "stream",
          "name": "stdout",
          "text": [
            "tf.Tensor([1 7], shape=(2,), dtype=int32)\n"
          ]
        }
      ]
    },
    {
      "cell_type": "code",
      "source": [
        "mat = tf.constant([[1,2,3],[3,4,5],[4,7,9]])\n",
        "print(mat[1,:])\n",
        "print(mat[:,2])\n",
        "print(mat[1,1:])"
      ],
      "metadata": {
        "colab": {
          "base_uri": "https://localhost:8080/"
        },
        "id": "Hlb9R_PKt3QC",
        "outputId": "6b350f8b-9a6c-4a5d-c5f7-51fea5162e72"
      },
      "execution_count": 66,
      "outputs": [
        {
          "output_type": "stream",
          "name": "stdout",
          "text": [
            "tf.Tensor([3 4 5], shape=(3,), dtype=int32)\n",
            "tf.Tensor([3 5 9], shape=(3,), dtype=int32)\n",
            "tf.Tensor([4 5], shape=(2,), dtype=int32)\n"
          ]
        }
      ]
    },
    {
      "cell_type": "markdown",
      "source": [
        "**Reshaping of Tensor**"
      ],
      "metadata": {
        "id": "M-Y9JjxCxXgg"
      }
    },
    {
      "cell_type": "code",
      "source": [
        "# Reshape vector into matrix\n",
        "x = tf.constant([1,4,56,7,8,3,78,90,12,4,6,8])\n",
        "re_shape = tf.reshape(x,(4,3))\n",
        "print(re_shape)"
      ],
      "metadata": {
        "colab": {
          "base_uri": "https://localhost:8080/"
        },
        "id": "fC7eO8X0wSGx",
        "outputId": "1700b03f-849c-4f9a-f0f2-956a677eee1b"
      },
      "execution_count": 69,
      "outputs": [
        {
          "output_type": "stream",
          "name": "stdout",
          "text": [
            "tf.Tensor(\n",
            "[[ 1  4 56]\n",
            " [ 7  8  3]\n",
            " [78 90 12]\n",
            " [ 4  6  8]], shape=(4, 3), dtype=int32)\n"
          ]
        }
      ]
    },
    {
      "cell_type": "code",
      "source": [
        "# Transpose matrix \n",
        "transpose = tf.transpose(re_shape)\n",
        "print(transpose)"
      ],
      "metadata": {
        "colab": {
          "base_uri": "https://localhost:8080/"
        },
        "id": "z5WkEiUxxsIC",
        "outputId": "69def980-65e9-4936-86a3-575391b2fbfe"
      },
      "execution_count": 73,
      "outputs": [
        {
          "output_type": "stream",
          "name": "stdout",
          "text": [
            "tf.Tensor(\n",
            "[[ 1  7 78  4]\n",
            " [ 4  8 90  6]\n",
            " [56  3 12  8]], shape=(3, 4), dtype=int32)\n"
          ]
        }
      ]
    }
  ]
}